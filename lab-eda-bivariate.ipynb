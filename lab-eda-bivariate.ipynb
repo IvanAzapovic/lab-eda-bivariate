{
 "cells": [
  {
   "cell_type": "code",
   "execution_count": null,
   "id": "b0a4d13c-6446-4da6-b50c-79c965a644c7",
   "metadata": {},
   "outputs": [],
   "source": [
    "import pandas as pd\n",
    "import plotly.express as px\n",
    "import numpy as np\n",
    "import matplotlib.pyplot as plt\n",
    "import seaborn as sns\n",
    "\n",
    "%matplotlib inline"
   ]
  },
  {
   "cell_type": "code",
   "execution_count": null,
   "id": "f0bebc53-e89b-46ee-951d-4cd9f76a1f87",
   "metadata": {},
   "outputs": [],
   "source": [
    "# Loading  Amazon UK product dataset which provides information on product categories,\n",
    "# brands, prices, ratings, and more from from Amazon UK.\n",
    "df = pd.read_csv(r\"C:\\Users\\Tijana&Ivan\\Desktop\\IRON_HACK_PT_DATA_ANALYTICS\\Week_13\\Labs\\archive\\amz_uk_price_prediction_dataset.csv\")"
   ]
  },
  {
   "cell_type": "code",
   "execution_count": null,
   "id": "22b8009a-f298-46a9-bb4f-691f957c1677",
   "metadata": {},
   "outputs": [],
   "source": [
    "# Filtering out columns in the dataframe where more than 80% of the values are missing\n",
    "df = df[df.columns[df.isnull().mean() < 0.8]]"
   ]
  },
  {
   "cell_type": "code",
   "execution_count": null,
   "id": "e98626a1-149c-44e6-b868-b627abb82e45",
   "metadata": {},
   "outputs": [],
   "source": [
    "# Checking for missing data\n",
    "df.isnull().sum().sort_values(ascending=False)"
   ]
  },
  {
   "cell_type": "code",
   "execution_count": null,
   "id": "a30a11d9-01cd-417b-86be-b0794ad3b900",
   "metadata": {},
   "outputs": [],
   "source": [
    "# Removing the \"Id's\" columns from the dataframe\n",
    "df.drop([\"uid\",\"asin\"], inplace=True, axis=1)"
   ]
  },
  {
   "cell_type": "code",
   "execution_count": null,
   "id": "c84b5ad7-fd9d-4eb3-9440-8c5309c9d4cd",
   "metadata": {},
   "outputs": [],
   "source": [
    "df.head()"
   ]
  },
  {
   "cell_type": "code",
   "execution_count": null,
   "id": "14c8e861-6894-4e2f-bbb4-085134e2ffd7",
   "metadata": {},
   "outputs": [],
   "source": [
    "# Separating between discrete and continuous variables, as discrete ones could potentially be treated as categorical.\n",
    "# Remember to adjust the threshold (in this case, < 20) based on your dataset's specific characteristics and domain knowledge.\n",
    "potential_categorical_from_numerical = df.select_dtypes(\"number\").loc[:, df.select_dtypes(\"number\").nunique() < 20]\n",
    "potential_categorical_from_numerical"
   ]
  },
  {
   "cell_type": "code",
   "execution_count": null,
   "id": "058cd0a6-ef5d-46aa-a9b0-0f1c50dc2db3",
   "metadata": {},
   "outputs": [],
   "source": [
    "# Extracting columns with object (typically string) data types to create a categorical dataframe\n",
    "# For demonstration purposes, let's consider the columns in potential_categorical_from_numerical\n",
    "# as categorical variables.\n",
    "df_categorical = pd.concat([df.select_dtypes(\"object\"), potential_categorical_from_numerical], axis=1)\n",
    "\n",
    "# Adjusting the numerical dataframe by removing the moved columns\n",
    "df_numerical = df.select_dtypes(\"number\").drop(columns=potential_categorical_from_numerical.columns)"
   ]
  },
  {
   "cell_type": "code",
   "execution_count": null,
   "id": "1983ead4-dc33-41a4-b8c6-283263ca9fd2",
   "metadata": {},
   "outputs": [],
   "source": [
    "df_categorical"
   ]
  },
  {
   "cell_type": "code",
   "execution_count": null,
   "id": "808c485b-6c6c-4e1f-aadd-95dbd6a59d4c",
   "metadata": {},
   "outputs": [],
   "source": [
    "df_numerical"
   ]
  },
  {
   "cell_type": "code",
   "execution_count": null,
   "id": "fe58c01c-531c-4af0-8ec2-8de1be2a4b9d",
   "metadata": {},
   "outputs": [],
   "source": [
    "# Create a crosstab between the product category and the isBestSeller status.\n",
    "# Generating a crosstab for 'category' and 'isBestSeller'\n",
    "crosstab_result = pd.crosstab(df['category'], df['isBestSeller'])\n",
    "crosstab_result\n",
    "new_crosstab_result= crosstab_result.copy()"
   ]
  },
  {
   "cell_type": "code",
   "execution_count": null,
   "id": "ab34c7fd-0dde-420d-acb1-5cb28dcc4841",
   "metadata": {},
   "outputs": [],
   "source": [
    "crosstab_result[\"Total\"] = crosstab_result[False]+crosstab_result[True]\n",
    "crosstab_result[\"Proportion_BestSellers\"] = round(crosstab_result[True]/crosstab_result[\"Total\"],3)\n",
    "sorted_crosstab= crosstab_result.sort_values(by = \"Proportion_BestSellers\", ascending= False)\n",
    "sorted_crosstab"
   ]
  },
  {
   "cell_type": "markdown",
   "id": "099762cc-1536-42b7-92b0-9ea333fd0661",
   "metadata": {},
   "source": [
    "Are there categories where being a best-seller is more prevalent?\n",
    "\n",
    "Health & Personal Care, Grocey and Smart Home Security & Lighting  has the highest proportion of best sellers with approx 5.8%.\n",
    "Mobile Phone Accessories with 4.8% has also reltively high proportion of best_sellers while, \n",
    "for example Equestrian Sports Boots,Radio Communication, Climbing Footwear and many more does not have any best seler proportion indicating that no products from these categories have best seller status.\n",
    "\n",
    "\n"
   ]
  },
  {
   "cell_type": "markdown",
   "id": "1ba0ad05-c4ca-4907-ad7c-e28af19432d3",
   "metadata": {},
   "source": [
    "Statistical Tests:\n",
    "\n",
    "Conduct a Chi-square test to determine if the best-seller distribution is independent of the product category."
   ]
  },
  {
   "cell_type": "code",
   "execution_count": null,
   "id": "409067ba-5592-43dd-ac9a-40e74521c337",
   "metadata": {},
   "outputs": [],
   "source": [
    "from scipy.stats import chi2_contingency\n",
    "\n",
    "# Chi-square test for 'category' and 'isBestSeller'\n",
    "chi2_statistic, chi2_p_value, _, _ = chi2_contingency(crosstab_result)\n",
    "\n",
    "chi2_statistic, chi2_p_value"
   ]
  },
  {
   "cell_type": "markdown",
   "id": "fd537d5e-68fc-4776-ba3c-8e7c2446c31e",
   "metadata": {},
   "source": [
    "A large value of the Chi- statistic suggests a significant association between the variables. \n",
    "P-value suggest strong relationship."
   ]
  },
  {
   "cell_type": "code",
   "execution_count": null,
   "id": "f04abe3c-604c-4729-8816-a4a384a64b7a",
   "metadata": {},
   "outputs": [],
   "source": [
    "from scipy.stats.contingency import association\n",
    "\n",
    "# Computing the association between variables in 'crosstab_result' using the \"cramer\" method\n",
    "association(new_crosstab_result, method=\"cramer\")"
   ]
  },
  {
   "cell_type": "markdown",
   "id": "34e64d04-19dd-4506-aad1-95bc8389af6e",
   "metadata": {},
   "source": [
    "The Cramér's V value of 0.122, suggests a weak association between the variables.\n",
    "The strenght of this relationship is not very strong in practical terms."
   ]
  },
  {
   "cell_type": "code",
   "execution_count": null,
   "id": "e8a4b6e7-8a96-4c02-aca4-b495ee90cd07",
   "metadata": {},
   "outputs": [],
   "source": [
    "top_5_data = sorted_crosstab.iloc[0:10,:2]\n",
    "top_5_data"
   ]
  },
  {
   "cell_type": "code",
   "execution_count": null,
   "id": "ff830ce9-c94a-46f6-bf7b-3a4b67b6ec8a",
   "metadata": {},
   "outputs": [],
   "source": [
    "# Plotting a stacked bar chart for the 'crosstab_result' data\n",
    "top_5_data.plot(kind=\"bar\", stacked=True)\n",
    "plt.show()"
   ]
  },
  {
   "cell_type": "code",
   "execution_count": null,
   "id": "9d928210-4838-4a0d-96a6-86343b4a5f2b",
   "metadata": {},
   "outputs": [],
   "source": [
    "# Plotting a grouped bar chart\n",
    "px.histogram(df, x='category', color='isBestSeller', barmode='group')"
   ]
  },
  {
   "cell_type": "markdown",
   "id": "f3b543b4-3bce-485c-8dab-dc6fc696c3c1",
   "metadata": {},
   "source": [
    "Part 2: Exploring Product Prices and Ratings Across Categories and Brands\n",
    "Objective: Investigate how different product categories influence product prices.\n",
    "\n",
    "Preliminary Step: Remove outliers in product prices.\n",
    "\n",
    "For this purpose, we can use the IQR (Interquartile Range) method. Products priced below the first quartile minus 1.5 times the IQR or above the third quartile plus 1.5 times the IQR will be considered outliers and removed from the dataset. The next steps will be done with the dataframe without outliers.\n",
    "\n",
    "Hint: you can check the last Check For Understanding at the end of the lesson EDA Bivariate Analysis for a hint on how to do this.\n",
    "\n",
    "\n",
    "\n",
    "Box Plots:\n",
    "Visualize the distribution of product ratings based on their category using side-by-side box plots. Filter out the top 10 categories based on count for better visualization.\n",
    "Which category tends to receive the highest median rating from customers? Don't filter here by top categories.\n"
   ]
  },
  {
   "cell_type": "code",
   "execution_count": null,
   "id": "fc77a6bf-7c53-4fee-a087-72952f6c7085",
   "metadata": {},
   "outputs": [],
   "source": [
    "df.shape"
   ]
  },
  {
   "cell_type": "code",
   "execution_count": null,
   "id": "43729c19-45ed-43ee-b98c-559606759676",
   "metadata": {},
   "outputs": [],
   "source": [
    "# calculatin IGR(interquartile_range) of price\n",
    "quantile_1= df[\"price\"].quantile(0.25)\n",
    "quantile_3=df[\"price\"].quantile(0.75)\n",
    "interquartile_range= quantile_3-quantile_1"
   ]
  },
  {
   "cell_type": "code",
   "execution_count": null,
   "id": "87c05359-762e-4dc7-8cd1-d9fe5ef7b1a3",
   "metadata": {},
   "outputs": [],
   "source": [
    "# finding and removing(filtering) Outliers\n",
    "q1_outliers= quantile_1 - 1.5 * interquartile_range\n",
    "q3_outliers= quantile_3 + 1.5 * interquartile_range\n",
    "\n",
    "filtered_df= df[(df['price'] >= q1_outliers) & (df['price'] <= q3_outliers)]"
   ]
  },
  {
   "cell_type": "code",
   "execution_count": null,
   "id": "4bc86797-1334-4dab-be42-8a5212ff7d87",
   "metadata": {},
   "outputs": [],
   "source": [
    "filtered_df.shape"
   ]
  },
  {
   "cell_type": "markdown",
   "id": "6587dc55-9ed2-4352-844a-233f46c7e7c3",
   "metadata": {},
   "source": [
    "Violin Plots:\n",
    "\n",
    "Use a violin plot to visualize the distribution of price across different product categories. Filter out the top 20 categories based on count for better visualization.\n",
    "Which product category tends to have the highest median price? Don't filter here by top categories."
   ]
  },
  {
   "cell_type": "code",
   "execution_count": null,
   "id": "fba5941b-0bc3-4515-9f45-d945689a002a",
   "metadata": {},
   "outputs": [],
   "source": [
    "top_20_categories= filtered_df['category'].value_counts().nlargest(20).index"
   ]
  },
  {
   "cell_type": "code",
   "execution_count": null,
   "id": "20952fef-e299-4be3-b479-f068fac5d193",
   "metadata": {},
   "outputs": [],
   "source": [
    "print(\"Top 20 Categories:\", top_20_categories)"
   ]
  },
  {
   "cell_type": "code",
   "execution_count": null,
   "id": "9826b0a0-2583-46e1-ae8a-f0429993c8f3",
   "metadata": {},
   "outputs": [],
   "source": [
    "# Filter the DataFrame\n",
    "top_categories_df = filtered_df[filtered_df['category'].isin(top_20_categories)]\n",
    "print(\"Filtered DataFrame Size:\", top_categories_df.shape)  "
   ]
  },
  {
   "cell_type": "code",
   "execution_count": null,
   "id": "2b775eb4-d173-44df-b78d-d5297235f892",
   "metadata": {},
   "outputs": [],
   "source": [
    "print(\"Categories in Filtered DataFrame:\", top_categories_df['category'].unique())  "
   ]
  },
  {
   "cell_type": "code",
   "execution_count": null,
   "id": "257bb7ba-02fb-4686-833a-5face18a1f04",
   "metadata": {},
   "outputs": [],
   "source": [
    "# Plotting a violin plot to visualize the distribution of price across different product categories\n",
    "sns.violinplot(data=top_categories_df, x='price', y='category', hue = \"category\", legend = False, palette=\"coolwarm\")\n",
    "plt.show()"
   ]
  },
  {
   "cell_type": "markdown",
   "id": "fc15283e-9798-40a5-a220-a6ae3dc5da83",
   "metadata": {},
   "source": [
    "Looking at Violinplot, I would say that category \"Men\" has the highest median price."
   ]
  },
  {
   "cell_type": "markdown",
   "id": "9a16f67e-d375-4c99-ab7f-f4ff9f589637",
   "metadata": {},
   "source": [
    "Bar Charts:\n",
    "\n",
    "Create a bar chart comparing the average price of products for the top 10 product categories (based on count).\n",
    "Which product category commands the highest average price? Don't filter here by top categories.\n"
   ]
  },
  {
   "cell_type": "code",
   "execution_count": null,
   "id": "82c7b703-6141-42cf-ad92-d56ca96840ad",
   "metadata": {},
   "outputs": [],
   "source": [
    "# Calculating average price per category\n",
    "average_price= filtered_df.groupby('category')['price'].mean().sort_values(ascending=False)"
   ]
  },
  {
   "cell_type": "code",
   "execution_count": null,
   "id": "b251528c-4c4c-4c21-b40e-e9a2eb7c3297",
   "metadata": {},
   "outputs": [],
   "source": [
    "top10_avg_price=average_price.nlargest(10)\n",
    "top10_avg_price"
   ]
  },
  {
   "cell_type": "code",
   "execution_count": null,
   "id": "656ae028-5d52-4fa8-a64f-1ee463ce5250",
   "metadata": {},
   "outputs": [],
   "source": [
    "top10_avg_price_df = top10_avg_price.reset_index()\n",
    "top10_avg_price_df.columns = ['category', 'price']"
   ]
  },
  {
   "cell_type": "code",
   "execution_count": null,
   "id": "822ca409-a67d-4441-af01-75d3dcea6347",
   "metadata": {},
   "outputs": [],
   "source": [
    "# Plotting a bar plot to visualize the average 'price' for each 'category', using the \"coolwarm\" color palette\n",
    "px.histogram(top10_avg_price_df, x='price', y='category')"
   ]
  },
  {
   "cell_type": "markdown",
   "id": "03625efd-9002-48a0-965b-0b1c0dfd96a1",
   "metadata": {},
   "source": [
    "The highest average price comes from Motherboards and it is 68.77"
   ]
  },
  {
   "cell_type": "markdown",
   "id": "7edd20da-34f1-412f-81bc-a4381c7d5440",
   "metadata": {},
   "source": [
    "Box Plots:\n",
    "Visualize the distribution of product ratings based on their category using side-by-side box plots. Filter out the top 10 categories based on count for better visualization.\n",
    "Which category tends to receive the highest median rating from customers? Don't filter here by top categories."
   ]
  },
  {
   "cell_type": "code",
   "execution_count": null,
   "id": "9c59cb42-0bb8-4d5f-b3c1-57bbf78d6d7c",
   "metadata": {},
   "outputs": [],
   "source": [
    "top_categories_by_count = df['category'].value_counts().nlargest(10).index\n",
    "df_top_categories_by_count = df[df['category'].isin(top_categories_by_count)]\n",
    "df_top_categories_by_count"
   ]
  },
  {
   "cell_type": "code",
   "execution_count": null,
   "id": "1e7ba708-4461-433a-a812-fd8236d2780f",
   "metadata": {},
   "outputs": [],
   "source": [
    "px.box(df_top_categories_by_count, x='stars', y='category')"
   ]
  },
  {
   "cell_type": "markdown",
   "id": "eb787d62-3d95-478f-a5e6-58febde315ad",
   "metadata": {},
   "source": [
    "Based on theBox Plot Hair Care, Beauty, Bath&Body and Skin Care have the highest median rating from customers of 4.4"
   ]
  },
  {
   "cell_type": "markdown",
   "id": "34c827e8-f38f-40eb-a06b-88775c4999c2",
   "metadata": {},
   "source": [
    "Objective: Analyze how product ratings (stars) correlate with product prices.\n",
    "\n",
    "Correlation Coefficients:\n",
    "\n",
    "Calculate the correlation coefficient between price and stars.\n",
    "Is there a significant correlation between product price and its rating?"
   ]
  },
  {
   "cell_type": "code",
   "execution_count": null,
   "id": "f6f5c218-094e-4849-8517-5995c7416bc3",
   "metadata": {},
   "outputs": [],
   "source": [
    "filtered_df.head(1)"
   ]
  },
  {
   "cell_type": "code",
   "execution_count": null,
   "id": "349deb3c-bf41-4d9f-ab9d-613918a25c08",
   "metadata": {},
   "outputs": [],
   "source": [
    "# correlation coefficient between product price and ratings\n",
    "correlation = filtered_df['price'].corr(filtered_df['stars'])\n",
    "print(f\"Correlation coefficient between price and rating: {correlation}\")"
   ]
  },
  {
   "cell_type": "markdown",
   "id": "c141bc63-3926-4f27-b4f3-90794fe81564",
   "metadata": {},
   "source": [
    "-0.0777 indicates small or no correlation between variables."
   ]
  },
  {
   "cell_type": "markdown",
   "id": "61310b9f-eb83-4718-9746-2581064880d8",
   "metadata": {},
   "source": [
    "**Visualisation:**\n",
    "Scatter plot"
   ]
  },
  {
   "cell_type": "code",
   "execution_count": null,
   "id": "e993fa65-3020-4550-9bc7-9ce1c355f94d",
   "metadata": {},
   "outputs": [],
   "source": [
    "plt.figure(figsize=(10, 6))\n",
    "plt.scatter(filtered_df['stars'], filtered_df['price'], alpha=0.5)\n",
    "plt.xlabel('Product Rating')\n",
    "plt.ylabel('Product Price')\n",
    "plt.title('Scatter Plot of Product Price vs Rating')\n",
    "plt.show()"
   ]
  },
  {
   "cell_type": "markdown",
   "id": "d241ff1f-e4cb-4789-8a56-4eb6c320b7e9",
   "metadata": {},
   "source": [
    "There is no trend that shows any correlation between price and rating\n",
    "\n",
    "**Correlation Heatmap**"
   ]
  },
  {
   "cell_type": "code",
   "execution_count": null,
   "id": "dd09c779-ea79-4030-8130-5ac7cd700d04",
   "metadata": {},
   "outputs": [],
   "source": [
    "plt.figure(figsize=(8, 6))\n",
    "sns.heatmap(df_numerical.corr(), annot=True, fmt='.2f', cmap='coolwarm')\n",
    "plt.title('Correlation Heatmap')\n",
    "plt.show()"
   ]
  },
  {
   "cell_type": "markdown",
   "id": "5dbf8c14-16f9-47a6-b583-8ec94c8b8254",
   "metadata": {},
   "source": [
    " **QQ Plot for Normality Check**"
   ]
  },
  {
   "cell_type": "code",
   "execution_count": null,
   "id": "5d2f7abe-0f8b-4f20-b9b5-4824beacf8fa",
   "metadata": {},
   "outputs": [],
   "source": [
    "import scipy.stats as stats\n",
    "\n",
    "plt.figure(figsize=(8, 6))\n",
    "stats.probplot(filtered_df['price'], dist=\"norm\", plot=plt)\n",
    "plt.title('QQ Plot for Product Prices')\n",
    "plt.show()"
   ]
  },
  {
   "cell_type": "code",
   "execution_count": null,
   "id": "d7f74225-3c6e-498b-90a6-b94afbbdc816",
   "metadata": {},
   "outputs": [],
   "source": []
  }
 ],
 "metadata": {
  "kernelspec": {
   "display_name": "Python 3 (ipykernel)",
   "language": "python",
   "name": "python3"
  },
  "language_info": {
   "codemirror_mode": {
    "name": "ipython",
    "version": 3
   },
   "file_extension": ".py",
   "mimetype": "text/x-python",
   "name": "python",
   "nbconvert_exporter": "python",
   "pygments_lexer": "ipython3",
   "version": "3.12.7"
  }
 },
 "nbformat": 4,
 "nbformat_minor": 5
}
